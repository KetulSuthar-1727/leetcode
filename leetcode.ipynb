{
 "cells": [
  {
   "cell_type": "markdown",
   "id": "6aca60ea",
   "metadata": {},
   "source": [
    "1281"
   ]
  },
  {
   "cell_type": "code",
   "execution_count": null,
   "id": "9e55e545",
   "metadata": {},
   "outputs": [
    {
     "name": "stdout",
     "output_type": "stream",
     "text": [
      "13\n"
     ]
    }
   ],
   "source": [
    "def diffrence(n):\n",
    "    product = 1\n",
    "    sumof = 0\n",
    "\n",
    "    for i in str(n):\n",
    "        product *= int(i)\n",
    "        sumof += int(i)\n",
    "\n",
    "    return product - sumof\n"
   ]
  },
  {
   "cell_type": "markdown",
   "id": "501a69e5",
   "metadata": {},
   "source": [
    "191"
   ]
  },
  {
   "cell_type": "code",
   "execution_count": 9,
   "id": "a96fbe22",
   "metadata": {},
   "outputs": [
    {
     "name": "stdout",
     "output_type": "stream",
     "text": [
      "5\n"
     ]
    }
   ],
   "source": [
    "def binarycount(n):\n",
    "    binary_str = bin(n)[2:]\n",
    "    counter = 0\n",
    "    for i in binary_str:\n",
    "        if(i == \"1\"):\n",
    "            counter += 1\n",
    "    \n",
    "    return counter\n",
    "print(binarycount(31))"
   ]
  },
  {
   "cell_type": "markdown",
   "id": "8d93d5ab",
   "metadata": {},
   "source": [
    "217"
   ]
  },
  {
   "cell_type": "code",
   "execution_count": null,
   "id": "413207ed",
   "metadata": {},
   "outputs": [
    {
     "name": "stdout",
     "output_type": "stream",
     "text": [
      "False\n"
     ]
    }
   ],
   "source": [
    "def duplicate(nums):\n",
    "    seen = set()\n",
    "\n",
    "    for value in nums:\n",
    "        if value in seen:\n",
    "            return True\n",
    "        \n",
    "        seen.add(value)\n",
    "    \n",
    "    return False\n",
    "\n",
    "\n",
    "def duplicate2(nums):\n",
    "    new_list = set(nums)\n",
    "\n",
    "    return len(new_list) == len(nums)\n"
   ]
  },
  {
   "cell_type": "markdown",
   "id": "b5cb8f6f",
   "metadata": {},
   "source": [
    "242"
   ]
  },
  {
   "cell_type": "code",
   "execution_count": null,
   "id": "243df322",
   "metadata": {},
   "outputs": [
    {
     "name": "stdout",
     "output_type": "stream",
     "text": [
      "False\n"
     ]
    }
   ],
   "source": [
    "def anagram(s,t):\n",
    "    return sorted(s) == sorted(t)"
   ]
  },
  {
   "cell_type": "markdown",
   "id": "bfde6740",
   "metadata": {},
   "source": [
    "7"
   ]
  },
  {
   "cell_type": "code",
   "execution_count": 1,
   "id": "570b42ed",
   "metadata": {},
   "outputs": [
    {
     "name": "stdout",
     "output_type": "stream",
     "text": [
      "-3457\n"
     ]
    }
   ],
   "source": [
    "def reverseInt(x):\n",
    "    sign = -1 if x < 0 else 1\n",
    "\n",
    "    ans = 0\n",
    "    int_max = 2**31 - 1\n",
    "\n",
    "    x = abs(x)\n",
    "    while (x != 0):\n",
    "        reminder = x % 10\n",
    "        x = x // 10\n",
    "\n",
    "        if(ans > (int_max - reminder) // 10):\n",
    "            return 0 \n",
    "        \n",
    "        ans = ans * 10 + reminder\n",
    "    \n",
    "    return sign * ans\n",
    "\n",
    "print(reverseInt(-7543))"
   ]
  },
  {
   "cell_type": "markdown",
   "id": "202173c8",
   "metadata": {},
   "source": [
    "1009"
   ]
  },
  {
   "cell_type": "code",
   "execution_count": 3,
   "id": "34d10a57",
   "metadata": {},
   "outputs": [
    {
     "name": "stdout",
     "output_type": "stream",
     "text": [
      "2\n"
     ]
    }
   ],
   "source": [
    "def complement(n):\n",
    "    bitlength = n.bit_length()\n",
    "    mask = (1 << bitlength) - 1\n",
    "\n",
    "    return n ^ mask\n",
    "\n",
    "print(complement(5))"
   ]
  },
  {
   "cell_type": "markdown",
   "id": "89bbcb95",
   "metadata": {},
   "source": [
    "231"
   ]
  },
  {
   "cell_type": "code",
   "execution_count": 3,
   "id": "551d348e",
   "metadata": {},
   "outputs": [
    {
     "name": "stdout",
     "output_type": "stream",
     "text": [
      "True\n"
     ]
    }
   ],
   "source": [
    "def poweroftwo(n):\n",
    "    for power in range(31):\n",
    "        number = 2 ** power\n",
    "\n",
    "        if(number == n):\n",
    "            return True\n",
    "        \n",
    "    return False\n",
    "\n",
    "print(poweroftwo(64))"
   ]
  },
  {
   "cell_type": "markdown",
   "id": "5a22c88e",
   "metadata": {},
   "source": [
    "9"
   ]
  },
  {
   "cell_type": "code",
   "execution_count": 7,
   "id": "78ee9163",
   "metadata": {},
   "outputs": [
    {
     "name": "stdout",
     "output_type": "stream",
     "text": [
      "True\n",
      "False\n",
      "True\n"
     ]
    }
   ],
   "source": [
    "def palindrome(n): # logical approch using type conversion\n",
    "    reverse = \"\"\n",
    "    for value in str(n):\n",
    "        reverse = value + reverse\n",
    "    \n",
    "    return str(n) == reverse\n",
    "\n",
    "print(palindrome(151))\n",
    "\n",
    "\n",
    "def palindrome2(n): # using pythonn inbuild functions\n",
    "    return str(n) == str(n)[::-1]\n",
    "\n",
    "print(palindrome2(144))\n",
    "\n",
    "\n",
    "def palindrome3(n): # total logical approch\n",
    "    original = n \n",
    "    reverse = 0\n",
    "\n",
    "    while n > 0:\n",
    "        reminder = n % 10\n",
    "        reverse = reverse * 10 + reminder\n",
    "        n = n // 10\n",
    "\n",
    "    return original == reverse\n",
    "\n",
    "print(palindrome3(2442))\n",
    "\n"
   ]
  },
  {
   "cell_type": "markdown",
   "id": "1acf9e16",
   "metadata": {},
   "source": [
    "704"
   ]
  },
  {
   "cell_type": "code",
   "execution_count": 1,
   "id": "fc8c1cfd",
   "metadata": {},
   "outputs": [
    {
     "name": "stdout",
     "output_type": "stream",
     "text": [
      "4\n"
     ]
    }
   ],
   "source": [
    "def binarysearch(nums,target):\n",
    "    low = 0\n",
    "    high = len(nums) - 1\n",
    "\n",
    "    while low <= high:\n",
    "        mid = (low + high) // 2\n",
    "\n",
    "        if(nums[mid] == target):\n",
    "            return mid\n",
    "        elif(nums[mid] < target):\n",
    "            low = mid + 1\n",
    "        else:\n",
    "            high = mid - 1\n",
    "    return -1\n",
    "print(binarysearch([2,4,6,7,9,11,15],9))\n",
    "    "
   ]
  },
  {
   "cell_type": "markdown",
   "id": "de03093e",
   "metadata": {},
   "source": [
    "344"
   ]
  },
  {
   "cell_type": "code",
   "execution_count": 5,
   "id": "7c7ba0ac",
   "metadata": {},
   "outputs": [
    {
     "name": "stdout",
     "output_type": "stream",
     "text": [
      "['o', 'l', 'l', 'e', 'h']\n"
     ]
    }
   ],
   "source": [
    "def reversestring(s : list):\n",
    "    start = 0\n",
    "    end = len(s) - 1\n",
    "\n",
    "    while start <= end:\n",
    "        s[start],s[end] = s[end],s[start]\n",
    "\n",
    "        start += 1\n",
    "        end -= 1\n",
    "    \n",
    "    return s\n",
    "print(reversestring([\"h\",\"e\",\"l\",\"l\",\"o\"]))"
   ]
  },
  {
   "cell_type": "markdown",
   "id": "90c82e3d",
   "metadata": {},
   "source": [
    "1207"
   ]
  },
  {
   "cell_type": "code",
   "execution_count": 1,
   "id": "a11c78de",
   "metadata": {},
   "outputs": [
    {
     "name": "stdout",
     "output_type": "stream",
     "text": [
      "True\n"
     ]
    }
   ],
   "source": [
    "from collections import Counter \n",
    "def uniqueoccurances(arr):\n",
    "    frequency = Counter(arr)\n",
    "    values_of_frequency = list(frequency.values())\n",
    "    return len(values_of_frequency) == len(set(values_of_frequency))\n",
    "\n",
    "print(uniqueoccurances([1,2,2,1,1,3]))"
   ]
  },
  {
   "cell_type": "markdown",
   "id": "da361808",
   "metadata": {},
   "source": [
    "136"
   ]
  },
  {
   "cell_type": "code",
   "execution_count": 2,
   "id": "9abd3b40",
   "metadata": {},
   "outputs": [
    {
     "name": "stdout",
     "output_type": "stream",
     "text": [
      "3\n"
     ]
    }
   ],
   "source": [
    "def uniquenumber(nums):\n",
    "    seen = set()\n",
    "\n",
    "    for value in nums:\n",
    "        if value in seen:\n",
    "            seen.remove(value)\n",
    "        else:\n",
    "            seen.add(value)\n",
    "    \n",
    "    return seen.pop()\n",
    "print(uniquenumber([1,2,1,2,3]))"
   ]
  },
  {
   "cell_type": "markdown",
   "id": "49e22e8d",
   "metadata": {},
   "source": [
    "442"
   ]
  },
  {
   "cell_type": "code",
   "execution_count": null,
   "id": "5ea3aaa5",
   "metadata": {},
   "outputs": [],
   "source": [
    "def allduplicate(nums):\n",
    "    li = []\n",
    "    seen = set()\n",
    "\n",
    "    for value in nums:\n",
    "        if value in seen:\n",
    "            li.append(value)\n",
    "\n",
    "        else:\n",
    "            seen.add(value)\n",
    "    \n",
    "    return li\n",
    "\n",
    "print(allduplicate([4,3,2,7,8,2,3,1,2]))"
   ]
  },
  {
   "cell_type": "markdown",
   "id": "fed2fabf",
   "metadata": {},
   "source": [
    "34"
   ]
  },
  {
   "cell_type": "code",
   "execution_count": null,
   "id": "e714f3a7",
   "metadata": {},
   "outputs": [
    {
     "name": "stdout",
     "output_type": "stream",
     "text": [
      "(3, 4)\n"
     ]
    }
   ],
   "source": [
    "def fisrtandlast(nums,target):\n",
    "    first = -1 \n",
    "    last = -1\n",
    "    for i in range(len(nums)):\n",
    "        if nums[i] == target:\n",
    "            first = i\n",
    "            break\n",
    "    for j in range(len(nums) - 1,-1,-1):\n",
    "        if nums[j] == target:\n",
    "            last = j\n",
    "            break\n",
    "    \n",
    "    return first,last\n",
    "\n",
    "print(fisrtandlast([5,7,7,8,8,10],8))\n",
    "\n",
    "## second approch optimizing the code using the binary search\n",
    "def firstandlast(nums,target):\n",
    "    \n",
    "    def first(nums,target):\n",
    "        low = 0\n",
    "        high = len(nums) - 1\n",
    "        firstans = -1\n",
    "\n",
    "        while low <= high:\n",
    "            mid = (low + high) // 2\n",
    "\n",
    "            if(nums[mid] == target):\n",
    "                high = mid - 1\n",
    "                firstans = mid\n",
    "            elif(nums[mid] < target):\n",
    "                low = mid + 1\n",
    "            else:\n",
    "                high = mid - 1\n",
    "        return firstans\n",
    "\n",
    "    def last(nums,target):\n",
    "        low = 0\n",
    "        high = len(nums) - 1\n",
    "        lastans = -1\n",
    "\n",
    "        while low <= high:\n",
    "            mid = (low + high) // 2\n",
    "\n",
    "            if(nums[mid] == target):\n",
    "                lastans = mid\n",
    "                low = mid + 1\n",
    "            elif(nums[mid] < target):\n",
    "                low = mid + 1\n",
    "            else:\n",
    "                high = mid - 1\n",
    "  \n",
    "        return lastans"
   ]
  },
  {
   "cell_type": "markdown",
   "id": "b9b30777",
   "metadata": {},
   "source": [
    "69"
   ]
  },
  {
   "cell_type": "code",
   "execution_count": 7,
   "id": "5cf9f63c",
   "metadata": {},
   "outputs": [
    {
     "name": "stdout",
     "output_type": "stream",
     "text": [
      "4\n",
      "7\n"
     ]
    }
   ],
   "source": [
    "def sqrt(n): # O(n) approch by self\n",
    "    ans = 0\n",
    "    for i in range(n + 1):\n",
    "        sqofnumbers = i * i\n",
    "        if sqofnumbers == n:\n",
    "            return i\n",
    "        if sqofnumbers > n:\n",
    "            return ans\n",
    "        ans = i\n",
    "    return ans\n",
    "print(sqrt(16))\n",
    "\n",
    "def sqrt2(x): # O(log n) approch using binary search\n",
    "    low = 0\n",
    "    high = x\n",
    "    ans = 0\n",
    "        \n",
    "    while low <= high:\n",
    "        mid = (low + high) // 2\n",
    "        sqofmid = mid * mid\n",
    "        if sqofmid == x:\n",
    "            return mid\n",
    "        \n",
    "        if sqofmid > x:\n",
    "            high = mid - 1\n",
    "        \n",
    "        else:\n",
    "            ans = mid\n",
    "            low = mid + 1\n",
    "    \n",
    "    return ans\n",
    "print(sqrt2(49))"
   ]
  },
  {
   "cell_type": "markdown",
   "id": "26ecc6b1",
   "metadata": {},
   "source": [
    "Book Allocation Problem"
   ]
  },
  {
   "cell_type": "code",
   "execution_count": 5,
   "id": "a92e2432",
   "metadata": {},
   "outputs": [
    {
     "name": "stdout",
     "output_type": "stream",
     "text": [
      "113\n"
     ]
    }
   ],
   "source": [
    "def bookallocation(arr,n):\n",
    "    low = max(arr)\n",
    "    high = sum(arr)\n",
    "    ans = 0\n",
    "    if n > len(arr):\n",
    "        return ans\n",
    "    \n",
    "    def isPossible(arr,n,mid):\n",
    "        student = 1\n",
    "        sumof = 0 \n",
    "\n",
    "        for i in range(len(arr)):\n",
    "            if (sumof + arr[i] <= mid):\n",
    "                sumof += arr[i]\n",
    "            else:\n",
    "                student += 1\n",
    "                if(student > n):\n",
    "                    return False\n",
    "                sumof = arr[i]\n",
    "        return True\n",
    "    \n",
    "    while ( low <= high ):\n",
    "        mid = (low + high) // 2\n",
    "\n",
    "        if(isPossible(arr,n,mid)):\n",
    "            ans = mid\n",
    "            high = mid - 1\n",
    "        else:    \n",
    "            low = mid + 1\n",
    "    return ans\n",
    "\n",
    "\n",
    "print(bookallocation([12,34,67,90],2))"
   ]
  },
  {
   "cell_type": "markdown",
   "id": "4d61bbb1",
   "metadata": {},
   "source": [
    "Aggressive Cows Problem"
   ]
  },
  {
   "cell_type": "code",
   "execution_count": 1,
   "id": "718a9eb5",
   "metadata": {},
   "outputs": [
    {
     "name": "stdout",
     "output_type": "stream",
     "text": [
      "5\n"
     ]
    }
   ],
   "source": [
    "def aggressivecows(arr,k):\n",
    "    low = 0 \n",
    "    high = max(arr) - min(arr)\n",
    "    ans = 0\n",
    "    def ansPossible(arr,k,mid):\n",
    "        cows = 1\n",
    "        pointer = arr[0]\n",
    "        for i in range(len(arr)):\n",
    "            if (arr[i] - pointer >= mid):\n",
    "                cows += 1\n",
    "                if ( cows == k):\n",
    "                    return True\n",
    "                pointer = arr[i]\n",
    "        return False\n",
    "\n",
    "    while (low <= high):\n",
    "        arr.sort()\n",
    "        mid = (low + high) // 2\n",
    "\n",
    "        if(ansPossible(arr,k,mid)):\n",
    "            ans = mid\n",
    "            low = mid + 1\n",
    "        else:\n",
    "            high = mid - 1\n",
    "    return ans\n",
    "print(aggressivecows([4,2,1,3,6],2))"
   ]
  },
  {
   "cell_type": "markdown",
   "id": "3b25c7b7",
   "metadata": {},
   "source": [
    "88"
   ]
  },
  {
   "cell_type": "code",
   "execution_count": 1,
   "id": "d6d4b76d",
   "metadata": {},
   "outputs": [
    {
     "name": "stdout",
     "output_type": "stream",
     "text": [
      "[1, 2, 3, 4, 5, 6]\n"
     ]
    }
   ],
   "source": [
    "def mergeArray(arr1,arr2):\n",
    "    arr3 = []\n",
    "    \n",
    "    firstpointer = 0\n",
    "    secondpointer = 0\n",
    "\n",
    "    while(firstpointer < len(arr1) and secondpointer < len(arr2)):\n",
    "\n",
    "        if(arr1[firstpointer] < arr2[secondpointer]):\n",
    "            arr3.append(arr1[firstpointer])\n",
    "            firstpointer += 1\n",
    "        else:\n",
    "            arr3.append(arr2[secondpointer])\n",
    "            secondpointer += 1\n",
    "        \n",
    "    while(firstpointer < len(arr1)):\n",
    "        arr3.append(arr1[firstpointer])\n",
    "        firstpointer += 1\n",
    "    \n",
    "    while(secondpointer < len(arr2)):\n",
    "        arr3.append(arr2[secondpointer])\n",
    "        secondpointer += 1\n",
    "    \n",
    "    return arr3\n",
    "merged = mergeArray([1, 3, 5], [2, 4, 6])\n",
    "\n",
    "print(merged)"
   ]
  },
  {
   "cell_type": "markdown",
   "id": "dfcafecb",
   "metadata": {},
   "source": [
    "283"
   ]
  },
  {
   "cell_type": "code",
   "execution_count": 1,
   "id": "bfc0b018",
   "metadata": {},
   "outputs": [
    {
     "name": "stdout",
     "output_type": "stream",
     "text": [
      "[2, 3, 1, 5, 6, 0, 0, 0, 0, 0]\n",
      "[2, 5, 6, 7, 1, 3, 4, 0, 0, 0, 0, 0]\n"
     ]
    }
   ],
   "source": [
    "def movezeroes(nums): # normal approch\n",
    "    for value in nums:\n",
    "        if value == 0:\n",
    "            nums.remove(value)\n",
    "            nums.append(value)\n",
    "    return nums\n",
    "\n",
    "print(movezeroes([2,3,0,0,1,5,6,0,0,0]))\n",
    "\n",
    "\n",
    "def movezeroes2(nums): # Two pointer approch\n",
    "    i = 0 \n",
    "\n",
    "    for j in range(len(nums)):\n",
    "        if nums[j] == 0:\n",
    "            continue\n",
    "        \n",
    "        else:\n",
    "            nums[j],nums[i] = nums[i],nums[j]\n",
    "            i += 1\n",
    "        \n",
    "    return nums\n",
    "print(movezeroes2([2,5,6,7,0,0,0,1,3,4,0,0]))\n",
    "\n",
    "\n"
   ]
  },
  {
   "cell_type": "markdown",
   "id": "366d9708",
   "metadata": {},
   "source": [
    "186"
   ]
  },
  {
   "cell_type": "code",
   "execution_count": 2,
   "id": "ee595335",
   "metadata": {},
   "outputs": [
    {
     "name": "stdout",
     "output_type": "stream",
     "text": [
      "[9, 2, 3, 4, 5, 6, 7, 8]\n"
     ]
    }
   ],
   "source": [
    "def rotatearray(arr,k):\n",
    "    rotatedArr = [0] * len(arr)\n",
    "\n",
    "    for i in range(len(arr)):\n",
    "        rotatedArr[(i + k) % len(arr)] = arr[i]\n",
    "\n",
    "    return rotatedArr\n",
    "\n",
    "print(rotatearray([2,3,4,5,6,7,8,9],9))"
   ]
  },
  {
   "cell_type": "markdown",
   "id": "59c7c596",
   "metadata": {},
   "source": [
    "1752"
   ]
  },
  {
   "cell_type": "code",
   "execution_count": 1,
   "id": "199cebf2",
   "metadata": {},
   "outputs": [
    {
     "name": "stdout",
     "output_type": "stream",
     "text": [
      "True\n"
     ]
    }
   ],
   "source": [
    "def rotate(arr):\n",
    "\n",
    "    pair = 0\n",
    "    \n",
    "    for i in range(len(arr)):\n",
    "        if (arr[i - 1] > arr[i]):\n",
    "            pair += 1\n",
    "    \n",
    "    if (arr[len(arr) - 1] > arr[0]):\n",
    "        pair += 1\n",
    "\n",
    "    return pair <= 1\n",
    "print(rotate([3,4,5,1,2]))"
   ]
  },
  {
   "cell_type": "markdown",
   "id": "dc79d0f5",
   "metadata": {},
   "source": [
    "Sum of Arrays"
   ]
  },
  {
   "cell_type": "code",
   "execution_count": 1,
   "id": "414895a7",
   "metadata": {},
   "outputs": [
    {
     "name": "stdout",
     "output_type": "stream",
     "text": [
      "169134\n"
     ]
    }
   ],
   "source": [
    "def addArray(arr1,arr2):\n",
    "\n",
    "    sumA = 0\n",
    "    sumB = 0\n",
    "\n",
    "    for i in range(len(arr1)):\n",
    "        sumA = sumA * 10 + arr1[i]\n",
    "\n",
    "    for j in range(len(arr2)):\n",
    "        sumB = sumB * 10 + arr2[j]\n",
    "\n",
    "    sumof = sumA + sumB\n",
    "\n",
    "    return str(sumof)\n",
    "\n",
    "print(addArray([1,2,3,4,5,6],[4,5,6,7,8]))"
   ]
  },
  {
   "cell_type": "markdown",
   "id": "a30f0505",
   "metadata": {},
   "source": [
    "54"
   ]
  },
  {
   "cell_type": "code",
   "execution_count": 1,
   "id": "13c01958",
   "metadata": {},
   "outputs": [
    {
     "name": "stdout",
     "output_type": "stream",
     "text": [
      "[1, 2, 3, 4, 8, 12, 11, 10, 9, 5, 6, 7]\n"
     ]
    }
   ],
   "source": [
    "\n",
    "def spiralOrder(matrix):\n",
    "        ans = []\n",
    "\n",
    "        rows = len(matrix)\n",
    "        cols = len(matrix[0])\n",
    "        total_count = rows * cols\n",
    "\n",
    "        count = 0\n",
    "\n",
    "        top = 0\n",
    "        bottom = rows - 1\n",
    "        right = cols - 1\n",
    "        left = 0\n",
    "\n",
    "        while (count < total_count):\n",
    "\n",
    "            for i in range(left,right + 1):\n",
    "                if count < total_count:\n",
    "                    ans.append(matrix[top][i])\n",
    "                    count += 1\n",
    "            top += 1\n",
    "\n",
    "            for i in range(top,bottom + 1):\n",
    "                if count < total_count:\n",
    "                    ans.append(matrix[i][right])\n",
    "                    count += 1\n",
    "            right -= 1\n",
    "\n",
    "            for i in range(right , left - 1 , - 1):\n",
    "                if count < total_count:\n",
    "                    ans.append(matrix[bottom][i])\n",
    "                    count += 1\n",
    "            bottom -= 1\n",
    "\n",
    "            for i in range(bottom , top - 1 , - 1):\n",
    "                if count < total_count:\n",
    "                    ans.append(matrix[i][left])\n",
    "                    count += 1\n",
    "            left += 1\n",
    "\n",
    "        return ans\n",
    "\n",
    "print(spiralOrder([[1,2,3,4],[5,6,7,8],[9,10,11,12]]))"
   ]
  },
  {
   "cell_type": "markdown",
   "id": "508a6f5c",
   "metadata": {},
   "source": [
    "EKO SPOJ"
   ]
  },
  {
   "cell_type": "code",
   "execution_count": 4,
   "id": "90ecf1cc",
   "metadata": {},
   "outputs": [
    {
     "name": "stdout",
     "output_type": "stream",
     "text": [
      "15\n"
     ]
    }
   ],
   "source": [
    "def ekoSpoj(arr,m):\n",
    "\n",
    "    def woodSum(arr,mid):\n",
    "\n",
    "        sumOFWood = 0 \n",
    "\n",
    "        for i in range(len(arr)):\n",
    "            if(arr[i] <= mid):\n",
    "                continue\n",
    "            else:\n",
    "                sumOFWood += arr[i] - mid\n",
    "\n",
    "        return sumOFWood\n",
    "\n",
    "\n",
    "    low = 0\n",
    "    high = max(arr)\n",
    "    ans = 0\n",
    "    while(low <= high):\n",
    "\n",
    "        mid = (low + high) // 2\n",
    "        possibleAns = woodSum(arr,mid)\n",
    "        if(possibleAns >= m):\n",
    "            ans = mid\n",
    "            low = mid + 1 \n",
    "\n",
    "        else:\n",
    "            high = mid - 1\n",
    "    \n",
    "    return ans\n",
    "\n",
    "print(ekoSpoj([20,15,10,17],7))"
   ]
  },
  {
   "cell_type": "markdown",
   "id": "6d39278f",
   "metadata": {},
   "source": [
    "PRATA SPOJ"
   ]
  },
  {
   "cell_type": "code",
   "execution_count": null,
   "id": "4be4cd46",
   "metadata": {},
   "outputs": [
    {
     "name": "stdout",
     "output_type": "stream",
     "text": [
      "12\n"
     ]
    }
   ],
   "source": [
    "def prataSpoj(arr,prata):\n",
    "\n",
    "    def ansPossible(arr,prata,mid):\n",
    "        prataCount = 0\n",
    "\n",
    "        for i in range(len(arr)):\n",
    "\n",
    "            sumOfTime = 0 \n",
    "            pointer = 1\n",
    "\n",
    "            while(True):\n",
    "                if(sumOfTime + arr[i] * pointer <= mid):\n",
    "                    prataCount += 1\n",
    "                    sumOfTime += arr[i] * pointer\n",
    "                    pointer += 1\n",
    "                \n",
    "                else:\n",
    "                    break\n",
    "\n",
    "                if(prataCount >= prata):\n",
    "                    return True\n",
    "        return False\n",
    "    \n",
    "\n",
    "    low = 0\n",
    "    high = max(arr) * ((prata * (prata + 1)) // 2)\n",
    "\n",
    "    ans = -1\n",
    "\n",
    "    while(low <= high):\n",
    "\n",
    "        mid = (low + high) // 2\n",
    "\n",
    "        if(ansPossible(arr,prata,mid)):\n",
    "            ans = mid\n",
    "            high = mid - 1\n",
    "        \n",
    "        else:\n",
    "            low = mid + 1\n",
    "\n",
    "    return ans\n",
    "\n",
    "print(prataSpoj([1,2,3,4],10))"
   ]
  },
  {
   "cell_type": "markdown",
   "id": "ba22c2c0",
   "metadata": {},
   "source": [
    "647"
   ]
  },
  {
   "cell_type": "code",
   "execution_count": 1,
   "id": "239b8831",
   "metadata": {},
   "outputs": [
    {
     "name": "stdout",
     "output_type": "stream",
     "text": [
      "5\n"
     ]
    }
   ],
   "source": [
    "def palindromicSubString(s :str):\n",
    "\n",
    "    def checkAllIndex(s,i,j):\n",
    "        count = 0\n",
    "\n",
    "        while(i >= 0 and j < len(s) and s[i] == s[j]):\n",
    "\n",
    "            count += 1\n",
    "            i -= 1\n",
    "            j += 1\n",
    "\n",
    "        return count\n",
    "\n",
    "    countAns = 0\n",
    "\n",
    "    for i in range(len(s)):\n",
    "\n",
    "        # for odd indices\n",
    "        oddAns = checkAllIndex(s,i,i)\n",
    "        countAns += oddAns\n",
    "\n",
    "        # for even indices\n",
    "        evenAns = checkAllIndex(s,i,i+1)\n",
    "        countAns += evenAns\n",
    "\n",
    "    return countAns\n",
    "\n",
    "print(palindromicSubString(\"ketul\"))"
   ]
  },
  {
   "cell_type": "markdown",
   "id": "77212bbe",
   "metadata": {},
   "source": [
    "1672"
   ]
  },
  {
   "cell_type": "code",
   "execution_count": 3,
   "id": "28c6c1d5",
   "metadata": {},
   "outputs": [
    {
     "name": "stdout",
     "output_type": "stream",
     "text": [
      "10\n"
     ]
    }
   ],
   "source": [
    "def maximumWealth(accounts):\n",
    "\n",
    "    ans = 0\n",
    "\n",
    "    for i in range(len(accounts)):\n",
    "\n",
    "        sumOfCustomer = 0 \n",
    "\n",
    "        for j in range(len(accounts[i])):\n",
    "\n",
    "            sumOfCustomer += accounts[i][j]\n",
    "\n",
    "            if(sumOfCustomer > ans):\n",
    "                ans = sumOfCustomer\n",
    "    \n",
    "    return ans\n",
    "\n",
    "print(maximumWealth([[1,5],[7,3],[3,5]]))"
   ]
  },
  {
   "cell_type": "markdown",
   "id": "ba3c0592",
   "metadata": {},
   "source": [
    "539"
   ]
  },
  {
   "cell_type": "code",
   "execution_count": null,
   "id": "c582837f",
   "metadata": {},
   "outputs": [
    {
     "name": "stdout",
     "output_type": "stream",
     "text": [
      "2\n"
     ]
    }
   ],
   "source": [
    "def minTimeDifference(time):\n",
    "\n",
    "    minuteArray = []\n",
    "\n",
    "    for i in range(len(time)):\n",
    "        currentString = time[i]\n",
    "        hours = int(currentString[0:2])\n",
    "        mins = int(currentString[3:5])\n",
    "\n",
    "        totalMinutes = hours * 60 + mins\n",
    "\n",
    "        minuteArray.append(totalMinutes)\n",
    "\n",
    "    minuteArray.sort()\n",
    "\n",
    "    minimum = 1441\n",
    "\n",
    "    for i in range(len(minuteArray) - 1):\n",
    "        diff = minuteArray[i + 1] - minuteArray[i]\n",
    "        minimum = min(minimum,diff)\n",
    "\n",
    "    temp = 1440 - minuteArray[len(minuteArray) - 1] + minuteArray[0]\n",
    "    minimum = min(temp,minimum)\n",
    "\n",
    "    return minimum\n",
    "\n",
    "print(minTimeDifference([\"23:12\" , \"00:00\" , \"23:10\"]))"
   ]
  }
 ],
 "metadata": {
  "kernelspec": {
   "display_name": "Python 3",
   "language": "python",
   "name": "python3"
  },
  "language_info": {
   "codemirror_mode": {
    "name": "ipython",
    "version": 3
   },
   "file_extension": ".py",
   "mimetype": "text/x-python",
   "name": "python",
   "nbconvert_exporter": "python",
   "pygments_lexer": "ipython3",
   "version": "3.12.5"
  }
 },
 "nbformat": 4,
 "nbformat_minor": 5
}
