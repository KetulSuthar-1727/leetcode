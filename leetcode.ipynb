{
 "cells": [
  {
   "cell_type": "markdown",
   "id": "6aca60ea",
   "metadata": {},
   "source": [
    "1281"
   ]
  },
  {
   "cell_type": "code",
   "execution_count": null,
   "id": "9e55e545",
   "metadata": {},
   "outputs": [
    {
     "name": "stdout",
     "output_type": "stream",
     "text": [
      "13\n"
     ]
    }
   ],
   "source": [
    "def diffrence(n):\n",
    "    product = 1\n",
    "    sumof = 0\n",
    "\n",
    "    for i in str(n):\n",
    "        product *= int(i)\n",
    "        sumof += int(i)\n",
    "\n",
    "    return product - sumof\n"
   ]
  },
  {
   "cell_type": "markdown",
   "id": "501a69e5",
   "metadata": {},
   "source": [
    "191"
   ]
  },
  {
   "cell_type": "code",
   "execution_count": 9,
   "id": "a96fbe22",
   "metadata": {},
   "outputs": [
    {
     "name": "stdout",
     "output_type": "stream",
     "text": [
      "5\n"
     ]
    }
   ],
   "source": [
    "def binarycount(n):\n",
    "    binary_str = bin(n)[2:]\n",
    "    counter = 0\n",
    "    for i in binary_str:\n",
    "        if(i == \"1\"):\n",
    "            counter += 1\n",
    "    \n",
    "    return counter\n",
    "print(binarycount(31))"
   ]
  },
  {
   "cell_type": "markdown",
   "id": "8d93d5ab",
   "metadata": {},
   "source": [
    "217"
   ]
  },
  {
   "cell_type": "code",
   "execution_count": null,
   "id": "413207ed",
   "metadata": {},
   "outputs": [
    {
     "name": "stdout",
     "output_type": "stream",
     "text": [
      "False\n"
     ]
    }
   ],
   "source": [
    "def duplicate(nums):\n",
    "    seen = set()\n",
    "\n",
    "    for value in nums:\n",
    "        if value in seen:\n",
    "            return True\n",
    "        \n",
    "        seen.add(value)\n",
    "    \n",
    "    return False\n",
    "\n",
    "\n",
    "def duplicate2(nums):\n",
    "    new_list = set(nums)\n",
    "\n",
    "    return len(new_list) == len(nums)\n"
   ]
  },
  {
   "cell_type": "markdown",
   "id": "b5cb8f6f",
   "metadata": {},
   "source": [
    "242"
   ]
  },
  {
   "cell_type": "code",
   "execution_count": 2,
   "id": "243df322",
   "metadata": {},
   "outputs": [
    {
     "name": "stdout",
     "output_type": "stream",
     "text": [
      "False\n"
     ]
    }
   ],
   "source": [
    "def anagram(s,t):\n",
    "    return sorted(s) == sorted(t)\n",
    "\n",
    "# this is the logical approch of this problem\n",
    "def validAnagram(s,t):\n",
    "    hashmap = {}\n",
    "\n",
    "    for ch in s:\n",
    "        if ch in hashmap:\n",
    "            hashmap[ch] += 1\n",
    "        \n",
    "        else:\n",
    "            hashmap[ch] = 1\n",
    "        \n",
    "\n",
    "    for ch in t: \n",
    "        if ch not in hashmap:\n",
    "            return False\n",
    "        \n",
    "        hashmap[ch] -= 1\n",
    "\n",
    "        if hashmap[ch] < 0:\n",
    "            return False\n",
    "           \n",
    "    return True\n",
    "\n",
    "print(validAnagram(\"rat\" , \"cat\"))"
   ]
  },
  {
   "cell_type": "markdown",
   "id": "bfde6740",
   "metadata": {},
   "source": [
    "7"
   ]
  },
  {
   "cell_type": "code",
   "execution_count": 1,
   "id": "570b42ed",
   "metadata": {},
   "outputs": [
    {
     "name": "stdout",
     "output_type": "stream",
     "text": [
      "-3457\n"
     ]
    }
   ],
   "source": [
    "def reverseInt(x):\n",
    "    sign = -1 if x < 0 else 1\n",
    "\n",
    "    ans = 0\n",
    "    int_max = 2**31 - 1\n",
    "\n",
    "    x = abs(x)\n",
    "    while (x != 0):\n",
    "        reminder = x % 10\n",
    "        x = x // 10\n",
    "\n",
    "        if(ans > (int_max - reminder) // 10):\n",
    "            return 0 \n",
    "        \n",
    "        ans = ans * 10 + reminder\n",
    "    \n",
    "    return sign * ans\n",
    "\n",
    "print(reverseInt(-7543))"
   ]
  },
  {
   "cell_type": "markdown",
   "id": "202173c8",
   "metadata": {},
   "source": [
    "1009"
   ]
  },
  {
   "cell_type": "code",
   "execution_count": 3,
   "id": "34d10a57",
   "metadata": {},
   "outputs": [
    {
     "name": "stdout",
     "output_type": "stream",
     "text": [
      "2\n"
     ]
    }
   ],
   "source": [
    "def complement(n):\n",
    "    bitlength = n.bit_length()\n",
    "    mask = (1 << bitlength) - 1\n",
    "\n",
    "    return n ^ mask\n",
    "\n",
    "print(complement(5))"
   ]
  },
  {
   "cell_type": "markdown",
   "id": "89bbcb95",
   "metadata": {},
   "source": [
    "231"
   ]
  },
  {
   "cell_type": "code",
   "execution_count": 3,
   "id": "551d348e",
   "metadata": {},
   "outputs": [
    {
     "name": "stdout",
     "output_type": "stream",
     "text": [
      "True\n"
     ]
    }
   ],
   "source": [
    "def poweroftwo(n):\n",
    "    for power in range(31):\n",
    "        number = 2 ** power\n",
    "\n",
    "        if(number == n):\n",
    "            return True\n",
    "        \n",
    "    return False\n",
    "\n",
    "print(poweroftwo(64))"
   ]
  },
  {
   "cell_type": "markdown",
   "id": "5a22c88e",
   "metadata": {},
   "source": [
    "9"
   ]
  },
  {
   "cell_type": "code",
   "execution_count": 7,
   "id": "78ee9163",
   "metadata": {},
   "outputs": [
    {
     "name": "stdout",
     "output_type": "stream",
     "text": [
      "True\n",
      "False\n",
      "True\n"
     ]
    }
   ],
   "source": [
    "def palindrome(n): # logical approch using type conversion\n",
    "    reverse = \"\"\n",
    "    for value in str(n):\n",
    "        reverse = value + reverse\n",
    "    \n",
    "    return str(n) == reverse\n",
    "\n",
    "print(palindrome(151))\n",
    "\n",
    "\n",
    "def palindrome2(n): # using pythonn inbuild functions\n",
    "    return str(n) == str(n)[::-1]\n",
    "\n",
    "print(palindrome2(144))\n",
    "\n",
    "\n",
    "def palindrome3(n): # total logical approch\n",
    "    original = n \n",
    "    reverse = 0\n",
    "\n",
    "    while n > 0:\n",
    "        reminder = n % 10\n",
    "        reverse = reverse * 10 + reminder\n",
    "        n = n // 10\n",
    "\n",
    "    return original == reverse\n",
    "\n",
    "print(palindrome3(2442))\n",
    "\n"
   ]
  },
  {
   "cell_type": "markdown",
   "id": "1acf9e16",
   "metadata": {},
   "source": [
    "704"
   ]
  },
  {
   "cell_type": "code",
   "execution_count": 1,
   "id": "fc8c1cfd",
   "metadata": {},
   "outputs": [
    {
     "name": "stdout",
     "output_type": "stream",
     "text": [
      "4\n"
     ]
    }
   ],
   "source": [
    "def binarysearch(nums,target):\n",
    "    low = 0\n",
    "    high = len(nums) - 1\n",
    "\n",
    "    while low <= high:\n",
    "        mid = (low + high) // 2\n",
    "\n",
    "        if(nums[mid] == target):\n",
    "            return mid\n",
    "        elif(nums[mid] < target):\n",
    "            low = mid + 1\n",
    "        else:\n",
    "            high = mid - 1\n",
    "    return -1\n",
    "print(binarysearch([2,4,6,7,9,11,15],9))\n",
    "    "
   ]
  },
  {
   "cell_type": "markdown",
   "id": "de03093e",
   "metadata": {},
   "source": [
    "344"
   ]
  },
  {
   "cell_type": "code",
   "execution_count": 5,
   "id": "7c7ba0ac",
   "metadata": {},
   "outputs": [
    {
     "name": "stdout",
     "output_type": "stream",
     "text": [
      "['o', 'l', 'l', 'e', 'h']\n"
     ]
    }
   ],
   "source": [
    "def reversestring(s : list):\n",
    "    start = 0\n",
    "    end = len(s) - 1\n",
    "\n",
    "    while start <= end:\n",
    "        s[start],s[end] = s[end],s[start]\n",
    "\n",
    "        start += 1\n",
    "        end -= 1\n",
    "    \n",
    "    return s\n",
    "print(reversestring([\"h\",\"e\",\"l\",\"l\",\"o\"]))"
   ]
  },
  {
   "cell_type": "markdown",
   "id": "90c82e3d",
   "metadata": {},
   "source": [
    "1207"
   ]
  },
  {
   "cell_type": "code",
   "execution_count": 1,
   "id": "a11c78de",
   "metadata": {},
   "outputs": [
    {
     "name": "stdout",
     "output_type": "stream",
     "text": [
      "True\n"
     ]
    }
   ],
   "source": [
    "from collections import Counter \n",
    "def uniqueoccurances(arr):\n",
    "    frequency = Counter(arr)\n",
    "    values_of_frequency = list(frequency.values())\n",
    "    return len(values_of_frequency) == len(set(values_of_frequency))\n",
    "\n",
    "print(uniqueoccurances([1,2,2,1,1,3]))"
   ]
  },
  {
   "cell_type": "markdown",
   "id": "da361808",
   "metadata": {},
   "source": [
    "136"
   ]
  },
  {
   "cell_type": "code",
   "execution_count": 2,
   "id": "9abd3b40",
   "metadata": {},
   "outputs": [
    {
     "name": "stdout",
     "output_type": "stream",
     "text": [
      "3\n"
     ]
    }
   ],
   "source": [
    "def uniquenumber(nums):\n",
    "    seen = set()\n",
    "\n",
    "    for value in nums:\n",
    "        if value in seen:\n",
    "            seen.remove(value)\n",
    "        else:\n",
    "            seen.add(value)\n",
    "    \n",
    "    return seen.pop()\n",
    "print(uniquenumber([1,2,1,2,3]))"
   ]
  },
  {
   "cell_type": "markdown",
   "id": "49e22e8d",
   "metadata": {},
   "source": [
    "442"
   ]
  },
  {
   "cell_type": "code",
   "execution_count": null,
   "id": "5ea3aaa5",
   "metadata": {},
   "outputs": [],
   "source": [
    "def allduplicate(nums):\n",
    "    li = []\n",
    "    seen = set()\n",
    "\n",
    "    for value in nums:\n",
    "        if value in seen:\n",
    "            li.append(value)\n",
    "\n",
    "        else:\n",
    "            seen.add(value)\n",
    "    \n",
    "    return li\n",
    "\n",
    "print(allduplicate([4,3,2,7,8,2,3,1,2]))"
   ]
  },
  {
   "cell_type": "markdown",
   "id": "fed2fabf",
   "metadata": {},
   "source": [
    "34"
   ]
  },
  {
   "cell_type": "code",
   "execution_count": null,
   "id": "e714f3a7",
   "metadata": {},
   "outputs": [
    {
     "name": "stdout",
     "output_type": "stream",
     "text": [
      "(3, 4)\n"
     ]
    }
   ],
   "source": [
    "def fisrtandlast(nums,target):\n",
    "    first = -1 \n",
    "    last = -1\n",
    "    for i in range(len(nums)):\n",
    "        if nums[i] == target:\n",
    "            first = i\n",
    "            break\n",
    "    for j in range(len(nums) - 1,-1,-1):\n",
    "        if nums[j] == target:\n",
    "            last = j\n",
    "            break\n",
    "    \n",
    "    return first,last\n",
    "\n",
    "print(fisrtandlast([5,7,7,8,8,10],8))\n",
    "\n",
    "## second approch optimizing the code using the binary search\n",
    "def firstandlast(nums,target):\n",
    "    \n",
    "    def first(nums,target):\n",
    "        low = 0\n",
    "        high = len(nums) - 1\n",
    "        firstans = -1\n",
    "\n",
    "        while low <= high:\n",
    "            mid = (low + high) // 2\n",
    "\n",
    "            if(nums[mid] == target):\n",
    "                high = mid - 1\n",
    "                firstans = mid\n",
    "            elif(nums[mid] < target):\n",
    "                low = mid + 1\n",
    "            else:\n",
    "                high = mid - 1\n",
    "        return firstans\n",
    "\n",
    "    def last(nums,target):\n",
    "        low = 0\n",
    "        high = len(nums) - 1\n",
    "        lastans = -1\n",
    "\n",
    "        while low <= high:\n",
    "            mid = (low + high) // 2\n",
    "\n",
    "            if(nums[mid] == target):\n",
    "                lastans = mid\n",
    "                low = mid + 1\n",
    "            elif(nums[mid] < target):\n",
    "                low = mid + 1\n",
    "            else:\n",
    "                high = mid - 1\n",
    "  \n",
    "        return lastans"
   ]
  },
  {
   "cell_type": "markdown",
   "id": "b9b30777",
   "metadata": {},
   "source": [
    "69"
   ]
  },
  {
   "cell_type": "code",
   "execution_count": 7,
   "id": "5cf9f63c",
   "metadata": {},
   "outputs": [
    {
     "name": "stdout",
     "output_type": "stream",
     "text": [
      "4\n",
      "7\n"
     ]
    }
   ],
   "source": [
    "def sqrt(n): # O(n) approch by self\n",
    "    ans = 0\n",
    "    for i in range(n + 1):\n",
    "        sqofnumbers = i * i\n",
    "        if sqofnumbers == n:\n",
    "            return i\n",
    "        if sqofnumbers > n:\n",
    "            return ans\n",
    "        ans = i\n",
    "    return ans\n",
    "print(sqrt(16))\n",
    "\n",
    "def sqrt2(x): # O(log n) approch using binary search\n",
    "    low = 0\n",
    "    high = x\n",
    "    ans = 0\n",
    "        \n",
    "    while low <= high:\n",
    "        mid = (low + high) // 2\n",
    "        sqofmid = mid * mid\n",
    "        if sqofmid == x:\n",
    "            return mid\n",
    "        \n",
    "        if sqofmid > x:\n",
    "            high = mid - 1\n",
    "        \n",
    "        else:\n",
    "            ans = mid\n",
    "            low = mid + 1\n",
    "    \n",
    "    return ans\n",
    "print(sqrt2(49))"
   ]
  },
  {
   "cell_type": "markdown",
   "id": "26ecc6b1",
   "metadata": {},
   "source": [
    "Book Allocation Problem"
   ]
  },
  {
   "cell_type": "code",
   "execution_count": 5,
   "id": "a92e2432",
   "metadata": {},
   "outputs": [
    {
     "name": "stdout",
     "output_type": "stream",
     "text": [
      "113\n"
     ]
    }
   ],
   "source": [
    "def bookallocation(arr,n):\n",
    "    low = max(arr)\n",
    "    high = sum(arr)\n",
    "    ans = 0\n",
    "    if n > len(arr):\n",
    "        return ans\n",
    "    \n",
    "    def isPossible(arr,n,mid):\n",
    "        student = 1\n",
    "        sumof = 0 \n",
    "\n",
    "        for i in range(len(arr)):\n",
    "            if (sumof + arr[i] <= mid):\n",
    "                sumof += arr[i]\n",
    "            else:\n",
    "                student += 1\n",
    "                if(student > n):\n",
    "                    return False\n",
    "                sumof = arr[i]\n",
    "        return True\n",
    "    \n",
    "    while ( low <= high ):\n",
    "        mid = (low + high) // 2\n",
    "\n",
    "        if(isPossible(arr,n,mid)):\n",
    "            ans = mid\n",
    "            high = mid - 1\n",
    "        else:    \n",
    "            low = mid + 1\n",
    "    return ans\n",
    "\n",
    "\n",
    "print(bookallocation([12,34,67,90],2))"
   ]
  },
  {
   "cell_type": "markdown",
   "id": "4d61bbb1",
   "metadata": {},
   "source": [
    "Aggressive Cows Problem"
   ]
  },
  {
   "cell_type": "code",
   "execution_count": 1,
   "id": "718a9eb5",
   "metadata": {},
   "outputs": [
    {
     "name": "stdout",
     "output_type": "stream",
     "text": [
      "5\n"
     ]
    }
   ],
   "source": [
    "def aggressivecows(arr,k):\n",
    "    low = 0 \n",
    "    high = max(arr) - min(arr)\n",
    "    ans = 0\n",
    "    def ansPossible(arr,k,mid):\n",
    "        cows = 1\n",
    "        pointer = arr[0]\n",
    "        for i in range(len(arr)):\n",
    "            if (arr[i] - pointer >= mid):\n",
    "                cows += 1\n",
    "                if ( cows == k):\n",
    "                    return True\n",
    "                pointer = arr[i]\n",
    "        return False\n",
    "\n",
    "    while (low <= high):\n",
    "        arr.sort()\n",
    "        mid = (low + high) // 2\n",
    "\n",
    "        if(ansPossible(arr,k,mid)):\n",
    "            ans = mid\n",
    "            low = mid + 1\n",
    "        else:\n",
    "            high = mid - 1\n",
    "    return ans\n",
    "print(aggressivecows([4,2,1,3,6],2))"
   ]
  },
  {
   "cell_type": "markdown",
   "id": "3b25c7b7",
   "metadata": {},
   "source": [
    "88"
   ]
  },
  {
   "cell_type": "code",
   "execution_count": 1,
   "id": "d6d4b76d",
   "metadata": {},
   "outputs": [
    {
     "name": "stdout",
     "output_type": "stream",
     "text": [
      "[1, 2, 3, 4, 5, 6]\n"
     ]
    }
   ],
   "source": [
    "def mergeArray(arr1,arr2):\n",
    "    arr3 = []\n",
    "    \n",
    "    firstpointer = 0\n",
    "    secondpointer = 0\n",
    "\n",
    "    while(firstpointer < len(arr1) and secondpointer < len(arr2)):\n",
    "\n",
    "        if(arr1[firstpointer] < arr2[secondpointer]):\n",
    "            arr3.append(arr1[firstpointer])\n",
    "            firstpointer += 1\n",
    "        else:\n",
    "            arr3.append(arr2[secondpointer])\n",
    "            secondpointer += 1\n",
    "        \n",
    "    while(firstpointer < len(arr1)):\n",
    "        arr3.append(arr1[firstpointer])\n",
    "        firstpointer += 1\n",
    "    \n",
    "    while(secondpointer < len(arr2)):\n",
    "        arr3.append(arr2[secondpointer])\n",
    "        secondpointer += 1\n",
    "    \n",
    "    return arr3\n",
    "merged = mergeArray([1, 3, 5], [2, 4, 6])\n",
    "\n",
    "print(merged)"
   ]
  },
  {
   "cell_type": "markdown",
   "id": "dfcafecb",
   "metadata": {},
   "source": [
    "283"
   ]
  },
  {
   "cell_type": "code",
   "execution_count": 1,
   "id": "bfc0b018",
   "metadata": {},
   "outputs": [
    {
     "name": "stdout",
     "output_type": "stream",
     "text": [
      "[2, 3, 1, 5, 6, 0, 0, 0, 0, 0]\n",
      "[2, 5, 6, 7, 1, 3, 4, 0, 0, 0, 0, 0]\n"
     ]
    }
   ],
   "source": [
    "def movezeroes(nums): # normal approch\n",
    "    for value in nums:\n",
    "        if value == 0:\n",
    "            nums.remove(value)\n",
    "            nums.append(value)\n",
    "    return nums\n",
    "\n",
    "print(movezeroes([2,3,0,0,1,5,6,0,0,0]))\n",
    "\n",
    "\n",
    "def movezeroes2(nums): # Two pointer approch\n",
    "    i = 0 \n",
    "\n",
    "    for j in range(len(nums)):\n",
    "        if nums[j] == 0:\n",
    "            continue\n",
    "        \n",
    "        else:\n",
    "            nums[j],nums[i] = nums[i],nums[j]\n",
    "            i += 1\n",
    "        \n",
    "    return nums\n",
    "print(movezeroes2([2,5,6,7,0,0,0,1,3,4,0,0]))\n",
    "\n",
    "\n"
   ]
  },
  {
   "cell_type": "markdown",
   "id": "366d9708",
   "metadata": {},
   "source": [
    "186"
   ]
  },
  {
   "cell_type": "code",
   "execution_count": 2,
   "id": "ee595335",
   "metadata": {},
   "outputs": [
    {
     "name": "stdout",
     "output_type": "stream",
     "text": [
      "[9, 2, 3, 4, 5, 6, 7, 8]\n"
     ]
    }
   ],
   "source": [
    "def rotatearray(arr,k):\n",
    "    rotatedArr = [0] * len(arr)\n",
    "\n",
    "    for i in range(len(arr)):\n",
    "        rotatedArr[(i + k) % len(arr)] = arr[i]\n",
    "\n",
    "    return rotatedArr\n",
    "\n",
    "print(rotatearray([2,3,4,5,6,7,8,9],9))"
   ]
  },
  {
   "cell_type": "markdown",
   "id": "59c7c596",
   "metadata": {},
   "source": [
    "1752"
   ]
  },
  {
   "cell_type": "code",
   "execution_count": 1,
   "id": "199cebf2",
   "metadata": {},
   "outputs": [
    {
     "name": "stdout",
     "output_type": "stream",
     "text": [
      "True\n"
     ]
    }
   ],
   "source": [
    "def rotate(arr):\n",
    "\n",
    "    pair = 0\n",
    "    \n",
    "    for i in range(len(arr)):\n",
    "        if (arr[i - 1] > arr[i]):\n",
    "            pair += 1\n",
    "    \n",
    "    if (arr[len(arr) - 1] > arr[0]):\n",
    "        pair += 1\n",
    "\n",
    "    return pair <= 1\n",
    "print(rotate([3,4,5,1,2]))"
   ]
  },
  {
   "cell_type": "markdown",
   "id": "dc79d0f5",
   "metadata": {},
   "source": [
    "Sum of Arrays"
   ]
  },
  {
   "cell_type": "code",
   "execution_count": 1,
   "id": "414895a7",
   "metadata": {},
   "outputs": [
    {
     "name": "stdout",
     "output_type": "stream",
     "text": [
      "169134\n"
     ]
    }
   ],
   "source": [
    "def addArray(arr1,arr2):\n",
    "\n",
    "    sumA = 0\n",
    "    sumB = 0\n",
    "\n",
    "    for i in range(len(arr1)):\n",
    "        sumA = sumA * 10 + arr1[i]\n",
    "\n",
    "    for j in range(len(arr2)):\n",
    "        sumB = sumB * 10 + arr2[j]\n",
    "\n",
    "    sumof = sumA + sumB\n",
    "\n",
    "    return str(sumof)\n",
    "\n",
    "print(addArray([1,2,3,4,5,6],[4,5,6,7,8]))"
   ]
  },
  {
   "cell_type": "markdown",
   "id": "8d9a2915",
   "metadata": {},
   "source": [
    "Wave Print A Matrix"
   ]
  },
  {
   "cell_type": "code",
   "execution_count": null,
   "id": "2fe8ac47",
   "metadata": {},
   "outputs": [],
   "source": [
    "def wavePrintMatrix(matrix):\n",
    "\n",
    "    rowLength = len(matrix)\n",
    "    colLength = len(matrix[0])\n",
    "\n",
    "    ans = []\n",
    "\n",
    "    for col in range(colLength):\n",
    "\n",
    "        if(col % 2 == 0):\n",
    "            for row in range(rowLength):\n",
    "                ans.append(matrix[row][col])\n",
    "            \n",
    "        else:\n",
    "            for row in range(colLength,-1,-1):\n",
    "                ans.append(matrix[row][col])\n",
    "\n",
    "    return ans\n",
    "\n",
    "matrix = [[1,2,3,4],[5,6,7,8],[9,10,11,12],[13,14,15,16],[17,18,19,20]]\n",
    "\n",
    "print(wavePrintMatrix(matrix))"
   ]
  },
  {
   "cell_type": "markdown",
   "id": "a30f0505",
   "metadata": {},
   "source": [
    "54"
   ]
  },
  {
   "cell_type": "code",
   "execution_count": 1,
   "id": "13c01958",
   "metadata": {},
   "outputs": [
    {
     "name": "stdout",
     "output_type": "stream",
     "text": [
      "[1, 2, 3, 4, 8, 12, 11, 10, 9, 5, 6, 7]\n"
     ]
    }
   ],
   "source": [
    "\n",
    "def spiralOrder(matrix):\n",
    "        ans = []\n",
    "\n",
    "        rows = len(matrix)\n",
    "        cols = len(matrix[0])\n",
    "        total_count = rows * cols\n",
    "\n",
    "        count = 0\n",
    "\n",
    "        top = 0\n",
    "        bottom = rows - 1\n",
    "        right = cols - 1\n",
    "        left = 0\n",
    "\n",
    "        while (count < total_count):\n",
    "\n",
    "            for i in range(left,right + 1):\n",
    "                if count < total_count:\n",
    "                    ans.append(matrix[top][i])\n",
    "                    count += 1\n",
    "            top += 1\n",
    "\n",
    "            for i in range(top,bottom + 1):\n",
    "                if count < total_count:\n",
    "                    ans.append(matrix[i][right])\n",
    "                    count += 1\n",
    "            right -= 1\n",
    "\n",
    "            for i in range(right , left - 1 , - 1):\n",
    "                if count < total_count:\n",
    "                    ans.append(matrix[bottom][i])\n",
    "                    count += 1\n",
    "            bottom -= 1\n",
    "\n",
    "            for i in range(bottom , top - 1 , - 1):\n",
    "                if count < total_count:\n",
    "                    ans.append(matrix[i][left])\n",
    "                    count += 1\n",
    "            left += 1\n",
    "\n",
    "        return ans\n",
    "\n",
    "print(spiralOrder([[1,2,3,4],[5,6,7,8],[9,10,11,12]]))"
   ]
  },
  {
   "cell_type": "markdown",
   "id": "508a6f5c",
   "metadata": {},
   "source": [
    "EKO SPOJ"
   ]
  },
  {
   "cell_type": "code",
   "execution_count": 1,
   "id": "90ecf1cc",
   "metadata": {},
   "outputs": [
    {
     "name": "stdout",
     "output_type": "stream",
     "text": [
      "15\n"
     ]
    }
   ],
   "source": [
    "def ekoSpoj(arr,m):\n",
    "\n",
    "    def woodSum(arr,mid):\n",
    "\n",
    "        sumOFWood = 0 \n",
    "\n",
    "        for i in range(len(arr)):\n",
    "            if(arr[i] <= mid):\n",
    "                continue\n",
    "            else:\n",
    "                sumOFWood += arr[i] - mid\n",
    "\n",
    "        return sumOFWood\n",
    "\n",
    "\n",
    "    low = 0\n",
    "    high = max(arr)\n",
    "    ans = 0\n",
    "    while(low <= high):\n",
    "\n",
    "        mid = (low + high) // 2\n",
    "        possibleAns = woodSum(arr,mid)\n",
    "        if(possibleAns >= m):\n",
    "            ans = mid\n",
    "            low = mid + 1 \n",
    "\n",
    "        else:\n",
    "            high = mid - 1\n",
    "    \n",
    "    return ans\n",
    "\n",
    "print(ekoSpoj([20,15,10,17],7))"
   ]
  },
  {
   "cell_type": "markdown",
   "id": "6d39278f",
   "metadata": {},
   "source": [
    "PRATA SPOJ"
   ]
  },
  {
   "cell_type": "code",
   "execution_count": 2,
   "id": "4be4cd46",
   "metadata": {},
   "outputs": [
    {
     "name": "stdout",
     "output_type": "stream",
     "text": [
      "12\n"
     ]
    }
   ],
   "source": [
    "def prataSpoj(arr,prata):\n",
    "\n",
    "    def ansPossible(arr,prata,mid):\n",
    "        prataCount = 0\n",
    "\n",
    "        for i in range(len(arr)):\n",
    "\n",
    "            sumOfTime = 0 \n",
    "            pointer = 1\n",
    "\n",
    "            while(True):\n",
    "                if(sumOfTime + arr[i] * pointer <= mid):\n",
    "                    prataCount += 1\n",
    "                    sumOfTime += arr[i] * pointer\n",
    "                    pointer += 1\n",
    "                \n",
    "                else:\n",
    "                    break\n",
    "\n",
    "                if(prataCount >= prata):\n",
    "                    return True\n",
    "        return False\n",
    "    \n",
    "\n",
    "    low = 0\n",
    "    high = max(arr) * ((prata * (prata + 1)) // 2)\n",
    "\n",
    "    ans = -1\n",
    "\n",
    "    while(low <= high):\n",
    "\n",
    "        mid = (low + high) // 2\n",
    "\n",
    "        if(ansPossible(arr,prata,mid)):\n",
    "            ans = mid\n",
    "            high = mid - 1\n",
    "        \n",
    "        else:\n",
    "            low = mid + 1\n",
    "\n",
    "    return ans\n",
    "\n",
    "print(prataSpoj([1,2,3,4],10))"
   ]
  },
  {
   "cell_type": "markdown",
   "id": "ba22c2c0",
   "metadata": {},
   "source": [
    "647"
   ]
  },
  {
   "cell_type": "code",
   "execution_count": 1,
   "id": "239b8831",
   "metadata": {},
   "outputs": [
    {
     "name": "stdout",
     "output_type": "stream",
     "text": [
      "5\n"
     ]
    }
   ],
   "source": [
    "def palindromicSubString(s :str):\n",
    "\n",
    "    def checkAllIndex(s,i,j):\n",
    "        count = 0\n",
    "\n",
    "        while(i >= 0 and j < len(s) and s[i] == s[j]):\n",
    "\n",
    "            count += 1\n",
    "            i -= 1\n",
    "            j += 1\n",
    "\n",
    "        return count\n",
    "\n",
    "    countAns = 0\n",
    "\n",
    "    for i in range(len(s)):\n",
    "\n",
    "        # for odd indices\n",
    "        oddAns = checkAllIndex(s,i,i)\n",
    "        countAns += oddAns\n",
    "\n",
    "        # for even indices\n",
    "        evenAns = checkAllIndex(s,i,i+1)\n",
    "        countAns += evenAns\n",
    "\n",
    "    return countAns\n",
    "\n",
    "print(palindromicSubString(\"ketul\"))"
   ]
  },
  {
   "cell_type": "markdown",
   "id": "77212bbe",
   "metadata": {},
   "source": [
    "1672"
   ]
  },
  {
   "cell_type": "code",
   "execution_count": 3,
   "id": "28c6c1d5",
   "metadata": {},
   "outputs": [
    {
     "name": "stdout",
     "output_type": "stream",
     "text": [
      "10\n"
     ]
    }
   ],
   "source": [
    "def maximumWealth(accounts):\n",
    "\n",
    "    ans = 0\n",
    "\n",
    "    for i in range(len(accounts)):\n",
    "\n",
    "        sumOfCustomer = 0 \n",
    "\n",
    "        for j in range(len(accounts[i])):\n",
    "\n",
    "            sumOfCustomer += accounts[i][j]\n",
    "\n",
    "            if(sumOfCustomer > ans):\n",
    "                ans = sumOfCustomer\n",
    "    \n",
    "    return ans\n",
    "\n",
    "print(maximumWealth([[1,5],[7,3],[3,5]]))"
   ]
  },
  {
   "cell_type": "markdown",
   "id": "ba3c0592",
   "metadata": {},
   "source": [
    "539"
   ]
  },
  {
   "cell_type": "code",
   "execution_count": null,
   "id": "c582837f",
   "metadata": {},
   "outputs": [
    {
     "name": "stdout",
     "output_type": "stream",
     "text": [
      "2\n"
     ]
    }
   ],
   "source": [
    "def minTimeDifference(time):\n",
    "\n",
    "    minuteArray = []\n",
    "\n",
    "    for i in range(len(time)):\n",
    "        currentString = time[i]\n",
    "        hours = int(currentString[0:2])\n",
    "        mins = int(currentString[3:5])\n",
    "\n",
    "        totalMinutes = hours * 60 + mins\n",
    "\n",
    "        minuteArray.append(totalMinutes)\n",
    "\n",
    "    minuteArray.sort()\n",
    "\n",
    "    minimum = 1441\n",
    "\n",
    "    for i in range(len(minuteArray) - 1):\n",
    "        diff = minuteArray[i + 1] - minuteArray[i]\n",
    "        minimum = min(minimum,diff)\n",
    "\n",
    "    temp = 1440 - minuteArray[len(minuteArray) - 1] + minuteArray[0]\n",
    "    minimum = min(temp,minimum)\n",
    "\n",
    "    return minimum\n",
    "\n",
    "print(minTimeDifference([\"23:12\" , \"00:00\" , \"23:10\"]))"
   ]
  },
  {
   "cell_type": "markdown",
   "id": "85cde95d",
   "metadata": {},
   "source": [
    "compressing the string and storing with key value pair"
   ]
  },
  {
   "cell_type": "code",
   "execution_count": 3,
   "id": "569bf33d",
   "metadata": {},
   "outputs": [
    {
     "name": "stdout",
     "output_type": "stream",
     "text": [
      "a : 3 b : 2 c : 6 d : 4\n",
      "{'a': 3, 'b': 2, 'c': 6, 'd': 4}\n"
     ]
    }
   ],
   "source": [
    "def compress(str): # Not working\n",
    "\n",
    "    i = 0 \n",
    "    length = len(str)\n",
    "    count = 1\n",
    "\n",
    "    while (i < length - 1):\n",
    "        \n",
    "        if (str[i] == str[i + 1]):\n",
    "            count += 1\n",
    "            i += 1\n",
    "\n",
    "            if(i + 1 == length):\n",
    "                print(str[i], \":\" , count)\n",
    "                return\n",
    "        \n",
    "        else:\n",
    "            i += 1\n",
    "            print(str[i - 1] , \":\" , count,end=\" \")\n",
    "            count = 1\n",
    "    \n",
    "    if i == length - 1:\n",
    "        print(str[i], \":\", 1, end=\" \")\n",
    "\n",
    "compress(\"aaabbccccccdddd\")\n",
    "\n",
    "\n",
    "# another easy way using the hashmap \n",
    "def compressString(s):\n",
    "    hashmap = {}\n",
    "\n",
    "    for ch in s:\n",
    "        if ch in hashmap:\n",
    "            hashmap[ch] += 1\n",
    "        \n",
    "        else:\n",
    "            hashmap[ch] = 1\n",
    "        \n",
    "    return hashmap\n",
    "\n",
    "print(compressString(\"aaabbccccccdddd\"))"
   ]
  },
  {
   "cell_type": "markdown",
   "id": "a949c3f6",
   "metadata": {},
   "source": [
    "917"
   ]
  },
  {
   "cell_type": "code",
   "execution_count": 1,
   "id": "68f20b53",
   "metadata": {},
   "outputs": [
    {
     "name": "stdout",
     "output_type": "stream",
     "text": [
      "hg--fe---dc-ba\n"
     ]
    }
   ],
   "source": [
    "def reverseOnlyLetters(s):\n",
    "\n",
    "    s = list(s)\n",
    "\n",
    "    i = 0 \n",
    "    j = len(s) - 1\n",
    "\n",
    "    while(i <= j):\n",
    "\n",
    "        if not ('A'<= s[i] <= 'Z' or  'a' <= s[i] <= 'z'):\n",
    "            i += 1\n",
    "\n",
    "        elif not ('A'<= s[j] <= 'Z' or  'a' <= s[j] <= 'z'):\n",
    "            j -= 1\n",
    "\n",
    "        else:\n",
    "            s[i],s[j] = s[j],s[i]\n",
    "            i += 1\n",
    "            j -= 1\n",
    "    \n",
    "    return \"\".join(s)\n",
    "\n",
    "print(reverseOnlyLetters(\"ab--cd---ef-gh\"))"
   ]
  },
  {
   "cell_type": "markdown",
   "id": "d0585892",
   "metadata": {},
   "source": [
    "Binary search in the 2d matrix"
   ]
  },
  {
   "cell_type": "code",
   "execution_count": 3,
   "id": "f9fcd0c7",
   "metadata": {},
   "outputs": [
    {
     "name": "stdout",
     "output_type": "stream",
     "text": [
      "True\n"
     ]
    }
   ],
   "source": [
    "def searchMatrix(matrix,target):\n",
    "    rowLength = len(matrix)\n",
    "    colLength = len(matrix[0])\n",
    "\n",
    "    low = 0 \n",
    "    high = rowLength * colLength - 1\n",
    "\n",
    "    while (low <= high):\n",
    "        mid = (low + high) // 2\n",
    "\n",
    "        row = mid // colLength\n",
    "        col = mid % colLength\n",
    "\n",
    "        if(matrix[row][col] == target):\n",
    "            return True\n",
    "        \n",
    "        elif(matrix[row][col] < target):\n",
    "            low = mid + 1\n",
    "\n",
    "        else:\n",
    "            high = mid - 1\n",
    "\n",
    "    return False\n",
    "\n",
    "\n",
    "matrix = [[1,2,3,4],[5,6,7,8],[9,10,11,12],[13,14,15,16]]\n",
    "print(searchMatrix(matrix,9))"
   ]
  },
  {
   "cell_type": "markdown",
   "id": "7e2a3d70",
   "metadata": {},
   "source": [
    "14"
   ]
  },
  {
   "cell_type": "code",
   "execution_count": 7,
   "id": "2e4dd5d9",
   "metadata": {},
   "outputs": [
    {
     "name": "stdout",
     "output_type": "stream",
     "text": [
      "fl\n"
     ]
    }
   ],
   "source": [
    "def longestCommonPrefix(strs):\n",
    "\n",
    "    ans = []\n",
    "    ch = 0\n",
    "\n",
    "    while (ch <= len(strs[0]) - 1):\n",
    "        current_ch = strs[0][ch]\n",
    "\n",
    "        for i in range(len(strs)):\n",
    "            if(ch >= len(strs[i]) or current_ch != strs[i][ch]):\n",
    "                return \"\".join(ans)\n",
    "            \n",
    "        ans.append(current_ch)\n",
    "        ch += 1\n",
    "    \n",
    "    return \"\".join(ans)\n",
    "\n",
    "print(longestCommonPrefix([\"flight\",\"flower\",\"fly\"]))"
   ]
  },
  {
   "cell_type": "markdown",
   "id": "98696839",
   "metadata": {},
   "source": [
    "345"
   ]
  },
  {
   "cell_type": "code",
   "execution_count": 2,
   "id": "e724c03e",
   "metadata": {},
   "outputs": [
    {
     "name": "stdout",
     "output_type": "stream",
     "text": [
      "leotcede\n",
      "holle\n"
     ]
    }
   ],
   "source": [
    "def reverseOnlyVowels(s):\n",
    "    s = list(s)\n",
    "    vowels = ['a','e','i','o','u','A','E','I','O','U']\n",
    "\n",
    "    i = 0 \n",
    "    j = len(s) - 1\n",
    "\n",
    "    while(i <= j):\n",
    "        if(s[i] in vowels and s[j] in vowels):\n",
    "            s[i],s[j] = s[j],s[i]\n",
    "            i += 1\n",
    "            j -= 1\n",
    "        \n",
    "        elif(s[i] in vowels):\n",
    "            j -= 1\n",
    "        \n",
    "        else:\n",
    "            i += 1\n",
    "    \n",
    "    return \"\".join(s)\n",
    "\n",
    "print(reverseOnlyVowels(\"leetcode\"))\n",
    "print(reverseOnlyVowels(\"hello\"))"
   ]
  },
  {
   "cell_type": "markdown",
   "id": "8d24dcb2",
   "metadata": {},
   "source": [
    "205"
   ]
  },
  {
   "cell_type": "code",
   "execution_count": 1,
   "id": "e13b548d",
   "metadata": {},
   "outputs": [
    {
     "name": "stdout",
     "output_type": "stream",
     "text": [
      "False\n"
     ]
    }
   ],
   "source": [
    "def isoMorphic(s,t):\n",
    "\n",
    "    hashmapOfStoT = {}\n",
    "    hashmapOfTtoS = {}\n",
    "\n",
    "    for i in range(len(s)):\n",
    "\n",
    "        if(s[i] in hashmapOfStoT and t[i] != hashmapOfStoT[s[i]]):\n",
    "            return False\n",
    "        \n",
    "        if(t[i] in hashmapOfTtoS and s[i] != hashmapOfTtoS[t[i]]):\n",
    "            return False\n",
    "\n",
    "        hashmapOfStoT[s[i]] = t[i]\n",
    "        hashmapOfTtoS[t[i]] = s[i]\n",
    "\n",
    "    return True\n",
    "\n",
    "print(isoMorphic(\"badc\",\"baba\"))"
   ]
  },
  {
   "cell_type": "markdown",
   "id": "ad854d53",
   "metadata": {},
   "source": [
    "49"
   ]
  },
  {
   "cell_type": "code",
   "execution_count": 3,
   "id": "e02e71df",
   "metadata": {},
   "outputs": [
    {
     "name": "stdout",
     "output_type": "stream",
     "text": [
      "[['bat'], ['tea', 'ate', 'eat'], ['nat', 'tan']]\n"
     ]
    }
   ],
   "source": [
    "def groupAnagram(strs):\n",
    "\n",
    "    hahsmap = {}\n",
    "\n",
    "    for value in strs:\n",
    "\n",
    "        temp = value\n",
    "        sortedTemp = \"\".join(sorted(temp))\n",
    "\n",
    "        if(sortedTemp in hahsmap):\n",
    "            hahsmap[sortedTemp].append(value)\n",
    "\n",
    "        else:\n",
    "            hahsmap[sortedTemp] = [value]\n",
    "\n",
    "    ans = list(hahsmap.values())\n",
    "    return ans\n",
    "\n",
    "print(groupAnagram([\"bat\",\"tea\",\"ate\",\"eat\",\"nat\",\"tan\"]))"
   ]
  },
  {
   "cell_type": "markdown",
   "id": "5299d82e",
   "metadata": {},
   "source": [
    "28"
   ]
  },
  {
   "cell_type": "code",
   "execution_count": null,
   "id": "2c12dc7e",
   "metadata": {},
   "outputs": [
    {
     "name": "stdout",
     "output_type": "stream",
     "text": [
      "4\n"
     ]
    }
   ],
   "source": [
    "def findFirst(haystack,needle):\n",
    "\n",
    "    for i in range(len(haystack) - len(needle) + 1):\n",
    "\n",
    "        if(haystack[i:i+len(needle)] == needle):\n",
    "            return i\n",
    "        \n",
    "    return -1\n",
    "\n",
    "\n",
    "\n",
    "def func(haystack,needle):\n",
    "\n",
    "    for i in range(len(haystack) - len(needle) + 1):\n",
    "        match = True\n",
    "        for j in range(len(needle)):\n",
    "\n",
    "            if (haystack[i+j] != needle[j]):\n",
    "                match = False\n",
    "                break\n",
    "            \n",
    "        if(match):\n",
    "            return i\n",
    "        \n",
    "    \n",
    "    return -1\n",
    "\n",
    "print(func(\"leetcode\",\"code\"))\n",
    "print(findFirst(\"leetcode\",\"code\"))"
   ]
  },
  {
   "cell_type": "markdown",
   "id": "cfb436e1",
   "metadata": {},
   "source": [
    "875"
   ]
  },
  {
   "cell_type": "code",
   "execution_count": 2,
   "id": "7a52441a",
   "metadata": {},
   "outputs": [
    {
     "name": "stdout",
     "output_type": "stream",
     "text": [
      "30\n"
     ]
    }
   ],
   "source": [
    "def kokoEatingBanana(piles,h):\n",
    "    def ansPossible(mid):\n",
    "        hours = 0\n",
    "        for banana in piles:\n",
    "            if banana <= mid:\n",
    "                hours += 1\n",
    "\n",
    "            else:\n",
    "                reminder = banana % mid\n",
    "                hours += banana // mid\n",
    "                if reminder > 0:\n",
    "                    hours += 1\n",
    "        \n",
    "        return hours <= h\n",
    "\n",
    "    low = 1\n",
    "    high = max(piles)\n",
    "    ans = high\n",
    "    while(low <= high):\n",
    "\n",
    "        mid = (low + high) // 2\n",
    "\n",
    "        if ansPossible(mid):\n",
    "            ans = mid\n",
    "            high = mid - 1\n",
    "\n",
    "        else:\n",
    "            low = mid + 1\n",
    "\n",
    "    return ans\n",
    "\n",
    "print(kokoEatingBanana([30,11,23,4,20],5))"
   ]
  },
  {
   "cell_type": "markdown",
   "id": "2c987fe1",
   "metadata": {},
   "source": [
    "881"
   ]
  },
  {
   "cell_type": "code",
   "execution_count": 1,
   "id": "d8eb6fa5",
   "metadata": {},
   "outputs": [
    {
     "name": "stdout",
     "output_type": "stream",
     "text": [
      "4\n"
     ]
    }
   ],
   "source": [
    "def numOfBoats(people,limit):\n",
    "    s = sorted(people)\n",
    "    count = 0 \n",
    "    i = 0 \n",
    "    j = len(s) - 1\n",
    "    while(i <= j):\n",
    "        if s[j] == limit:\n",
    "            count += 1\n",
    "            j -= 1\n",
    "        else:\n",
    "            if(s[i] + s[j]) == limit:\n",
    "                count += 1\n",
    "                j -= 1\n",
    "                i += 1\n",
    "            elif(s[i] + s[j]) > limit:\n",
    "                count += 1\n",
    "                j -= 1\n",
    "            else:\n",
    "                count += 1\n",
    "                i += 1\n",
    "                j -= 1\n",
    "    return count\n",
    "\n",
    "print(numOfBoats([3,5,3,4],5))"
   ]
  },
  {
   "cell_type": "markdown",
   "id": "8c597f65",
   "metadata": {},
   "source": [
    "80"
   ]
  },
  {
   "cell_type": "code",
   "execution_count": 1,
   "id": "c80d73f4",
   "metadata": {},
   "outputs": [
    {
     "name": "stdout",
     "output_type": "stream",
     "text": [
      "5\n"
     ]
    }
   ],
   "source": [
    "def removeDuplicate2(nums):\n",
    "\n",
    "    i = 0 \n",
    "    j = 2\n",
    "\n",
    "    while(j < len(nums)):\n",
    "\n",
    "        if (nums[i] == nums[j]):\n",
    "            nums.remove(nums[j])\n",
    "\n",
    "        else:\n",
    "            i += 1\n",
    "            j += 1\n",
    "\n",
    "    return len(nums)\n",
    "\n",
    "print(removeDuplicate2([1,1,1,2,2,3]))"
   ]
  },
  {
   "cell_type": "markdown",
   "id": "89b9d7bc",
   "metadata": {},
   "source": [
    "48"
   ]
  },
  {
   "cell_type": "code",
   "execution_count": null,
   "id": "7254969b",
   "metadata": {},
   "outputs": [
    {
     "name": "stdout",
     "output_type": "stream",
     "text": [
      "[[15, 13, 2, 5], [14, 3, 4, 1], [12, 6, 8, 9], [16, 7, 10, 11]]\n"
     ]
    }
   ],
   "source": [
    "def rotateImage(matrix):\n",
    "\n",
    "    for i in range(len(matrix)):\n",
    "        for j in range(i + 1,len(matrix[i])):\n",
    "\n",
    "            matrix[i][j],matrix[j][i] = matrix[j][i],matrix[i][j]\n",
    "\n",
    "    for i in range(len(matrix)):\n",
    "        matrix[i].reverse()\n",
    "\n",
    "    return matrix\n",
    "\n",
    "print(rotateImage([[5,1,9,11],[2,4,8,10],[13,3,6,7],[15,14,12,16]]))\n",
    "\n"
   ]
  },
  {
   "cell_type": "markdown",
   "id": "3640b9cc",
   "metadata": {},
   "source": [
    "80"
   ]
  },
  {
   "cell_type": "code",
   "execution_count": 1,
   "id": "92906e48",
   "metadata": {},
   "outputs": [
    {
     "name": "stdout",
     "output_type": "stream",
     "text": [
      "9\n"
     ]
    }
   ],
   "source": [
    "def removeDuplicates(nums):\n",
    "\n",
    "    i = 0\n",
    "    j = 2\n",
    "\n",
    "    while(j < len(nums)):\n",
    "\n",
    "        if (nums[i] == nums[j]):\n",
    "            nums.remove(nums[j])\n",
    "\n",
    "        else:\n",
    "            i += 1\n",
    "            j += 1\n",
    "\n",
    "    return len(nums)\n",
    "\n",
    "print(removeDuplicates([0,0,1,1,1,2,2,3,3,4]))"
   ]
  }
 ],
 "metadata": {
  "kernelspec": {
   "display_name": "Python 3",
   "language": "python",
   "name": "python3"
  },
  "language_info": {
   "codemirror_mode": {
    "name": "ipython",
    "version": 3
   },
   "file_extension": ".py",
   "mimetype": "text/x-python",
   "name": "python",
   "nbconvert_exporter": "python",
   "pygments_lexer": "ipython3",
   "version": "3.12.5"
  }
 },
 "nbformat": 4,
 "nbformat_minor": 5
}
