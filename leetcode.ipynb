{
 "cells": [
  {
   "cell_type": "markdown",
   "id": "6aca60ea",
   "metadata": {},
   "source": [
    "1281"
   ]
  },
  {
   "cell_type": "code",
   "execution_count": null,
   "id": "9e55e545",
   "metadata": {},
   "outputs": [
    {
     "name": "stdout",
     "output_type": "stream",
     "text": [
      "13\n"
     ]
    }
   ],
   "source": [
    "def diffrence(n):\n",
    "    product = 1\n",
    "    sumof = 0\n",
    "\n",
    "    for i in str(n):\n",
    "        product *= int(i)\n",
    "        sumof += int(i)\n",
    "\n",
    "    return product - sumof\n"
   ]
  },
  {
   "cell_type": "markdown",
   "id": "501a69e5",
   "metadata": {},
   "source": [
    "191"
   ]
  },
  {
   "cell_type": "code",
   "execution_count": 9,
   "id": "a96fbe22",
   "metadata": {},
   "outputs": [
    {
     "name": "stdout",
     "output_type": "stream",
     "text": [
      "5\n"
     ]
    }
   ],
   "source": [
    "def binarycount(n):\n",
    "    binary_str = bin(n)[2:]\n",
    "    counter = 0\n",
    "    for i in binary_str:\n",
    "        if(i == \"1\"):\n",
    "            counter += 1\n",
    "    \n",
    "    return counter\n",
    "print(binarycount(31))"
   ]
  },
  {
   "cell_type": "markdown",
   "id": "8d93d5ab",
   "metadata": {},
   "source": [
    "217"
   ]
  },
  {
   "cell_type": "code",
   "execution_count": null,
   "id": "413207ed",
   "metadata": {},
   "outputs": [
    {
     "name": "stdout",
     "output_type": "stream",
     "text": [
      "False\n"
     ]
    }
   ],
   "source": [
    "def duplicate(nums):\n",
    "    seen = set()\n",
    "\n",
    "    for value in nums:\n",
    "        if value in seen:\n",
    "            return True\n",
    "        \n",
    "        seen.add(value)\n",
    "    \n",
    "    return False\n",
    "\n",
    "\n",
    "def duplicate2(nums):\n",
    "    new_list = set(nums)\n",
    "\n",
    "    return len(new_list) == len(nums)\n"
   ]
  },
  {
   "cell_type": "markdown",
   "id": "b5cb8f6f",
   "metadata": {},
   "source": [
    "242"
   ]
  },
  {
   "cell_type": "code",
   "execution_count": null,
   "id": "243df322",
   "metadata": {},
   "outputs": [
    {
     "name": "stdout",
     "output_type": "stream",
     "text": [
      "False\n"
     ]
    }
   ],
   "source": [
    "def anagram(s,t):\n",
    "    return sorted(s) == sorted(t)"
   ]
  },
  {
   "cell_type": "markdown",
   "id": "bfde6740",
   "metadata": {},
   "source": [
    "7"
   ]
  },
  {
   "cell_type": "code",
   "execution_count": 1,
   "id": "570b42ed",
   "metadata": {},
   "outputs": [
    {
     "name": "stdout",
     "output_type": "stream",
     "text": [
      "-3457\n"
     ]
    }
   ],
   "source": [
    "def reverseInt(x):\n",
    "    sign = -1 if x < 0 else 1\n",
    "\n",
    "    ans = 0\n",
    "    int_max = 2**31 - 1\n",
    "\n",
    "    x = abs(x)\n",
    "    while (x != 0):\n",
    "        reminder = x % 10\n",
    "        x = x // 10\n",
    "\n",
    "        if(ans > (int_max - reminder) // 10):\n",
    "            return 0 \n",
    "        \n",
    "        ans = ans * 10 + reminder\n",
    "    \n",
    "    return sign * ans\n",
    "\n",
    "print(reverseInt(-7543))"
   ]
  },
  {
   "cell_type": "markdown",
   "id": "202173c8",
   "metadata": {},
   "source": [
    "1009"
   ]
  },
  {
   "cell_type": "code",
   "execution_count": 3,
   "id": "34d10a57",
   "metadata": {},
   "outputs": [
    {
     "name": "stdout",
     "output_type": "stream",
     "text": [
      "2\n"
     ]
    }
   ],
   "source": [
    "def complement(n):\n",
    "    bitlength = n.bit_length()\n",
    "    mask = (1 << bitlength) - 1\n",
    "\n",
    "    return n ^ mask\n",
    "\n",
    "print(complement(5))"
   ]
  },
  {
   "cell_type": "markdown",
   "id": "89bbcb95",
   "metadata": {},
   "source": [
    "231"
   ]
  },
  {
   "cell_type": "code",
   "execution_count": 3,
   "id": "551d348e",
   "metadata": {},
   "outputs": [
    {
     "name": "stdout",
     "output_type": "stream",
     "text": [
      "True\n"
     ]
    }
   ],
   "source": [
    "def poweroftwo(n):\n",
    "    for power in range(31):\n",
    "        number = 2 ** power\n",
    "\n",
    "        if(number == n):\n",
    "            return True\n",
    "        \n",
    "    return False\n",
    "\n",
    "print(poweroftwo(64))"
   ]
  }
 ],
 "metadata": {
  "kernelspec": {
   "display_name": "Python 3",
   "language": "python",
   "name": "python3"
  },
  "language_info": {
   "codemirror_mode": {
    "name": "ipython",
    "version": 3
   },
   "file_extension": ".py",
   "mimetype": "text/x-python",
   "name": "python",
   "nbconvert_exporter": "python",
   "pygments_lexer": "ipython3",
   "version": "3.12.5"
  }
 },
 "nbformat": 4,
 "nbformat_minor": 5
}
