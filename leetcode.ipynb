{
 "cells": [
  {
   "cell_type": "markdown",
   "id": "6aca60ea",
   "metadata": {},
   "source": [
    "1281"
   ]
  },
  {
   "cell_type": "code",
   "execution_count": null,
   "id": "9e55e545",
   "metadata": {},
   "outputs": [
    {
     "name": "stdout",
     "output_type": "stream",
     "text": [
      "13\n"
     ]
    }
   ],
   "source": [
    "def diffrence(n):\n",
    "    product = 1\n",
    "    sumof = 0\n",
    "\n",
    "    for i in str(n):\n",
    "        product *= int(i)\n",
    "        sumof += int(i)\n",
    "\n",
    "    return product - sumof\n"
   ]
  },
  {
   "cell_type": "markdown",
   "id": "501a69e5",
   "metadata": {},
   "source": [
    "191"
   ]
  },
  {
   "cell_type": "code",
   "execution_count": 9,
   "id": "a96fbe22",
   "metadata": {},
   "outputs": [
    {
     "name": "stdout",
     "output_type": "stream",
     "text": [
      "5\n"
     ]
    }
   ],
   "source": [
    "def binarycount(n):\n",
    "    binary_str = bin(n)[2:]\n",
    "    counter = 0\n",
    "    for i in binary_str:\n",
    "        if(i == \"1\"):\n",
    "            counter += 1\n",
    "    \n",
    "    return counter\n",
    "print(binarycount(31))"
   ]
  },
  {
   "cell_type": "markdown",
   "id": "8d93d5ab",
   "metadata": {},
   "source": [
    "217"
   ]
  },
  {
   "cell_type": "code",
   "execution_count": null,
   "id": "413207ed",
   "metadata": {},
   "outputs": [
    {
     "name": "stdout",
     "output_type": "stream",
     "text": [
      "False\n"
     ]
    }
   ],
   "source": [
    "def duplicate(nums):\n",
    "    seen = set()\n",
    "\n",
    "    for value in nums:\n",
    "        if value in seen:\n",
    "            return True\n",
    "        \n",
    "        seen.add(value)\n",
    "    \n",
    "    return False\n",
    "\n",
    "\n",
    "def duplicate2(nums):\n",
    "    new_list = set(nums)\n",
    "\n",
    "    return len(new_list) == len(nums)\n"
   ]
  },
  {
   "cell_type": "markdown",
   "id": "b5cb8f6f",
   "metadata": {},
   "source": [
    "242"
   ]
  },
  {
   "cell_type": "code",
   "execution_count": null,
   "id": "243df322",
   "metadata": {},
   "outputs": [
    {
     "name": "stdout",
     "output_type": "stream",
     "text": [
      "False\n"
     ]
    }
   ],
   "source": [
    "def anagram(s,t):\n",
    "    return sorted(s) == sorted(t)"
   ]
  },
  {
   "cell_type": "markdown",
   "id": "bfde6740",
   "metadata": {},
   "source": [
    "7"
   ]
  },
  {
   "cell_type": "code",
   "execution_count": 1,
   "id": "570b42ed",
   "metadata": {},
   "outputs": [
    {
     "name": "stdout",
     "output_type": "stream",
     "text": [
      "-3457\n"
     ]
    }
   ],
   "source": [
    "def reverseInt(x):\n",
    "    sign = -1 if x < 0 else 1\n",
    "\n",
    "    ans = 0\n",
    "    int_max = 2**31 - 1\n",
    "\n",
    "    x = abs(x)\n",
    "    while (x != 0):\n",
    "        reminder = x % 10\n",
    "        x = x // 10\n",
    "\n",
    "        if(ans > (int_max - reminder) // 10):\n",
    "            return 0 \n",
    "        \n",
    "        ans = ans * 10 + reminder\n",
    "    \n",
    "    return sign * ans\n",
    "\n",
    "print(reverseInt(-7543))"
   ]
  },
  {
   "cell_type": "markdown",
   "id": "202173c8",
   "metadata": {},
   "source": [
    "1009"
   ]
  },
  {
   "cell_type": "code",
   "execution_count": 3,
   "id": "34d10a57",
   "metadata": {},
   "outputs": [
    {
     "name": "stdout",
     "output_type": "stream",
     "text": [
      "2\n"
     ]
    }
   ],
   "source": [
    "def complement(n):\n",
    "    bitlength = n.bit_length()\n",
    "    mask = (1 << bitlength) - 1\n",
    "\n",
    "    return n ^ mask\n",
    "\n",
    "print(complement(5))"
   ]
  },
  {
   "cell_type": "markdown",
   "id": "89bbcb95",
   "metadata": {},
   "source": [
    "231"
   ]
  },
  {
   "cell_type": "code",
   "execution_count": 3,
   "id": "551d348e",
   "metadata": {},
   "outputs": [
    {
     "name": "stdout",
     "output_type": "stream",
     "text": [
      "True\n"
     ]
    }
   ],
   "source": [
    "def poweroftwo(n):\n",
    "    for power in range(31):\n",
    "        number = 2 ** power\n",
    "\n",
    "        if(number == n):\n",
    "            return True\n",
    "        \n",
    "    return False\n",
    "\n",
    "print(poweroftwo(64))"
   ]
  },
  {
   "cell_type": "markdown",
   "id": "5a22c88e",
   "metadata": {},
   "source": [
    "9"
   ]
  },
  {
   "cell_type": "code",
   "execution_count": 7,
   "id": "78ee9163",
   "metadata": {},
   "outputs": [
    {
     "name": "stdout",
     "output_type": "stream",
     "text": [
      "True\n",
      "False\n",
      "True\n"
     ]
    }
   ],
   "source": [
    "def palindrome(n): # logical approch using type conversion\n",
    "    reverse = \"\"\n",
    "    for value in str(n):\n",
    "        reverse = value + reverse\n",
    "    \n",
    "    return str(n) == reverse\n",
    "\n",
    "print(palindrome(151))\n",
    "\n",
    "\n",
    "def palindrome2(n): # using pythonn inbuild functions\n",
    "    return str(n) == str(n)[::-1]\n",
    "\n",
    "print(palindrome2(144))\n",
    "\n",
    "\n",
    "def palindrome3(n): # total logical approch\n",
    "    original = n \n",
    "    reverse = 0\n",
    "\n",
    "    while n > 0:\n",
    "        reminder = n % 10\n",
    "        reverse = reverse * 10 + reminder\n",
    "        n = n // 10\n",
    "\n",
    "    return original == reverse\n",
    "\n",
    "print(palindrome3(2442))\n",
    "\n"
   ]
  },
  {
   "cell_type": "markdown",
   "id": "1acf9e16",
   "metadata": {},
   "source": [
    "704"
   ]
  },
  {
   "cell_type": "code",
   "execution_count": 1,
   "id": "fc8c1cfd",
   "metadata": {},
   "outputs": [
    {
     "name": "stdout",
     "output_type": "stream",
     "text": [
      "4\n"
     ]
    }
   ],
   "source": [
    "def binarysearch(nums,target):\n",
    "    low = 0\n",
    "    high = len(nums) - 1\n",
    "\n",
    "    while low <= high:\n",
    "        mid = (low + high) // 2\n",
    "\n",
    "        if(nums[mid] == target):\n",
    "            return mid\n",
    "        elif(nums[mid] < target):\n",
    "            low = mid + 1\n",
    "        else:\n",
    "            high = mid - 1\n",
    "    return -1\n",
    "print(binarysearch([2,4,6,7,9,11,15],9))\n",
    "    "
   ]
  },
  {
   "cell_type": "markdown",
   "id": "de03093e",
   "metadata": {},
   "source": [
    "344"
   ]
  },
  {
   "cell_type": "code",
   "execution_count": 5,
   "id": "7c7ba0ac",
   "metadata": {},
   "outputs": [
    {
     "name": "stdout",
     "output_type": "stream",
     "text": [
      "['o', 'l', 'l', 'e', 'h']\n"
     ]
    }
   ],
   "source": [
    "def reversestring(s : list):\n",
    "    start = 0\n",
    "    end = len(s) - 1\n",
    "\n",
    "    while start <= end:\n",
    "        s[start],s[end] = s[end],s[start]\n",
    "\n",
    "        start += 1\n",
    "        end -= 1\n",
    "    \n",
    "    return s\n",
    "print(reversestring([\"h\",\"e\",\"l\",\"l\",\"o\"]))"
   ]
  },
  {
   "cell_type": "markdown",
   "id": "90c82e3d",
   "metadata": {},
   "source": [
    "1207"
   ]
  },
  {
   "cell_type": "code",
   "execution_count": 1,
   "id": "a11c78de",
   "metadata": {},
   "outputs": [
    {
     "name": "stdout",
     "output_type": "stream",
     "text": [
      "True\n"
     ]
    }
   ],
   "source": [
    "from collections import Counter \n",
    "def uniqueoccurances(arr):\n",
    "    frequency = Counter(arr)\n",
    "    values_of_frequency = list(frequency.values())\n",
    "    return len(values_of_frequency) == len(set(values_of_frequency))\n",
    "\n",
    "print(uniqueoccurances([1,2,2,1,1,3]))"
   ]
  },
  {
   "cell_type": "markdown",
   "id": "da361808",
   "metadata": {},
   "source": [
    "136"
   ]
  },
  {
   "cell_type": "code",
   "execution_count": 2,
   "id": "9abd3b40",
   "metadata": {},
   "outputs": [
    {
     "name": "stdout",
     "output_type": "stream",
     "text": [
      "3\n"
     ]
    }
   ],
   "source": [
    "def uniquenumber(nums):\n",
    "    seen = set()\n",
    "\n",
    "    for value in nums:\n",
    "        if value in seen:\n",
    "            seen.remove(value)\n",
    "        else:\n",
    "            seen.add(value)\n",
    "    \n",
    "    return seen.pop()\n",
    "print(uniquenumber([1,2,1,2,3]))"
   ]
  },
  {
   "cell_type": "markdown",
   "id": "49e22e8d",
   "metadata": {},
   "source": [
    "442"
   ]
  },
  {
   "cell_type": "code",
   "execution_count": null,
   "id": "5ea3aaa5",
   "metadata": {},
   "outputs": [],
   "source": [
    "def allduplicate(nums):\n",
    "    li = []\n",
    "    seen = set()\n",
    "\n",
    "    for value in nums:\n",
    "        if value in seen:\n",
    "            li.append(value)\n",
    "\n",
    "        else:\n",
    "            seen.add(value)\n",
    "    \n",
    "    return li\n",
    "\n",
    "print(allduplicate([4,3,2,7,8,2,3,1]))"
   ]
  },
  {
   "cell_type": "markdown",
   "id": "fed2fabf",
   "metadata": {},
   "source": [
    "34"
   ]
  },
  {
   "cell_type": "code",
   "execution_count": null,
   "id": "e714f3a7",
   "metadata": {},
   "outputs": [
    {
     "name": "stdout",
     "output_type": "stream",
     "text": [
      "(3, 4)\n"
     ]
    }
   ],
   "source": [
    "def fisrtandlast(nums,target):\n",
    "    first = -1 \n",
    "    last = -1\n",
    "    for i in range(len(nums)):\n",
    "        if nums[i] == target:\n",
    "            first = i\n",
    "            break\n",
    "    for j in range(len(nums) - 1,-1,-1):\n",
    "        if nums[j] == target:\n",
    "            last = j\n",
    "            break\n",
    "    \n",
    "    return first,last\n",
    "\n",
    "print(fisrtandlast([5,7,7,8,8,10],8))\n",
    "\n",
    "## second approch optimizing the code using the binary search\n",
    "def firstandlast(nums,target):\n",
    "    \n",
    "    def first(nums,target):\n",
    "        low = 0\n",
    "        high = len(nums) - 1\n",
    "        firstans = -1\n",
    "\n",
    "        while low <= high:\n",
    "            mid = (low + high) // 2\n",
    "\n",
    "            if(nums[mid] == target):\n",
    "                high = mid - 1\n",
    "                firstans = mid\n",
    "            elif(nums[mid] < target):\n",
    "                low = mid + 1\n",
    "            else:\n",
    "                high = mid - 1\n",
    "        return firstans\n",
    "\n",
    "    def last(nums,target):\n",
    "        low = 0\n",
    "        high = len(nums) - 1\n",
    "        lastans = -1\n",
    "\n",
    "        while low <= high:\n",
    "            mid = (low + high) // 2\n",
    "\n",
    "            if(nums[mid] == target):\n",
    "                lastans = mid\n",
    "                low = mid + 1\n",
    "            elif(nums[mid] < target):\n",
    "                low = mid + 1\n",
    "            else:\n",
    "                high = mid - 1\n",
    "  \n",
    "        return lastans"
   ]
  }
 ],
 "metadata": {
  "kernelspec": {
   "display_name": "Python 3",
   "language": "python",
   "name": "python3"
  },
  "language_info": {
   "codemirror_mode": {
    "name": "ipython",
    "version": 3
   },
   "file_extension": ".py",
   "mimetype": "text/x-python",
   "name": "python",
   "nbconvert_exporter": "python",
   "pygments_lexer": "ipython3",
   "version": "3.12.5"
  }
 },
 "nbformat": 4,
 "nbformat_minor": 5
}
